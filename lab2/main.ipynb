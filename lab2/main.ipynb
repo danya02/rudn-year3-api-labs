{
 "cells": [
  {
   "cell_type": "markdown",
   "metadata": {},
   "source": [
    "# Лабораторная работа 2\n",
    "## Генералов Даниил, 1032212280\n",
    "\n",
    "> В данной лабораторной работе предлагается познакомится с API реального веб-сервиса — random.org. Этот сервис предназначен для получения последовательности случайных чисел. API реализован по протоколу JSON-RPC\n",
    "> \n",
    "> Для выполнения задания желательно зарегистрировать двух-трех пользователей на всю группу. Для совершения запросов в дальнейшем потребуется только API ключ.\n"
   ]
  },
  {
   "cell_type": "markdown",
   "metadata": {},
   "source": [
    "> Исходный код этого файла доступен в git-репозитории: https://github.com/danya02/rudn-year3-api-labs/blob/main/lab2/main.ipynb"
   ]
  },
  {
   "cell_type": "markdown",
   "metadata": {},
   "source": [
    "## Ключ авторизации\n",
    "\n",
    "Для доступа к API сайта random.org требуется API-ключ.\n",
    "Для того, чтобы получить API-ключи, традиционно требуется использовать веб-интерфейс,\n",
    "чтобы зарегестрироваться, зайти в панель управления,\n",
    "и затем создать ключ.\n",
    "\n",
    "Такие ключи имеют действие, похожее на пароли, поэтому их следует хранить в тайне.\n",
    "Но это сложно сделать, когда исходный код этой лабораторной работы находится в публичном доступе.\n",
    "Поэтому большинство сервисов также имеют опцию отозвать выданный API-ключ, чтобы он больше не работал --\n",
    "я сделал это, прежде чем публиковать этот документ.\n",
    "\n",
    "Использованный ключ написан в переменной ниже. Если вы хотите запустить этот код сами, то следует указать свой ключ.\n"
   ]
  },
  {
   "cell_type": "code",
   "execution_count": 2,
   "metadata": {},
   "outputs": [],
   "source": [
    "API_KEY = \"165cbea2-fca9-4393-b8c9-fd7758e84a02\"  # Если вы читаете это, ключ уже не работает"
   ]
  },
  {
   "cell_type": "markdown",
   "metadata": {},
   "source": [
    "## JSON-RPC\n",
    "\n",
    "Один из RPC-протоколов -- это JSON-RPC. Если API работает через JSON-RPC, то пользователь может отправлять команды выполнить какую-то функцию (*remote procedure*), указать для нее аргументы, и получить ответ в стандартном формате.\n",
    "\n",
    "По спецификации JSON-RPC, клиент должен отправить объект, содержащий следующие поля:\n",
    "\n",
    "- `jsonrpc` -- версия протокола, всегда равно \"2.0\"\n",
    "- `method` -- название метода, который следует вызвать\n",
    "- `params` -- значения аргументов к методу\n",
    "- `id` -- идентификатор запроса\n",
    "\n",
    "В ответ на это сервер отправит объект с следующими полями:\n",
    "\n",
    "- `jsonrpc` -- так же как в запросе\n",
    "- `result` -- если успешно выполнено, результат выполнения метода\n",
    "- `error` -- если была ошибка, описание ошибки\n",
    "- `id` -- то же самое значение, как и `id` в запросе. Клиент может использовать это для корреляции запросов и ответов."
   ]
  },
  {
   "cell_type": "markdown",
   "metadata": {},
   "source": [
    "## generateIntegers\n",
    "\n",
    "Для того, чтобы выполнить метод `generateIntegers`, нужно отправить POST-запрос на определенный URL (фиксированный для всех методов). Для этого я использую библиотеку [requests](https://docs.python-requests.org/en/latest/index.html)"
   ]
  },
  {
   "cell_type": "code",
   "execution_count": 4,
   "metadata": {},
   "outputs": [],
   "source": [
    "import requests\n",
    "BASE_URL = 'https://api.random.org/json-rpc/4/invoke'\n",
    "\n",
    "resp = requests.post(BASE_URL, json={\n",
    "    \"jsonrpc\": \"2.0\",\n",
    "    \"method\": \"generateIntegers\",\n",
    "    \"id\": 69420,\n",
    "    \"params\": {\n",
    "        \"apiKey\": API_KEY,\n",
    "        \"n\": 5,\n",
    "        \"min\": -127,\n",
    "        \"max\": 128\n",
    "    }\n",
    "})"
   ]
  },
  {
   "cell_type": "markdown",
   "metadata": {},
   "source": [
    "После выполнения запроса можно посмотреть на его содержимое, а также на возвращаемые данные:"
   ]
  },
  {
   "cell_type": "code",
   "execution_count": 15,
   "metadata": {},
   "outputs": [
    {
     "name": "stdout",
     "output_type": "stream",
     "text": [
      "Header в запросе:\n",
      "  - User-Agent: python-requests/2.31.0\n",
      "  - Accept-Encoding: gzip, deflate, br\n",
      "  - Accept: */*\n",
      "  - Connection: keep-alive\n",
      "  - Content-Length: 156\n",
      "  - Content-Type: application/json\n",
      "\n",
      "Header в ответе:\n",
      "  - Date: Fri, 19 Apr 2024 19:27:08 GMT\n",
      "  - Content-Type: application/json; charset=utf-8\n",
      "  - Transfer-Encoding: chunked\n",
      "  - Connection: keep-alive\n",
      "  - X-Content-Type-Options: nosniff\n",
      "  - Access-Control-Allow-Origin: *\n",
      "  - Access-Control-Allow-Headers: Origin, X-Requested-With, Content-Type, Accept\n",
      "  - CF-Cache-Status: DYNAMIC\n",
      "  - Set-Cookie: __cflb=02DiuEJLVpaAQLxvFoC2iH8cD76FLs8dnz8s4UDCVP6XM; SameSite=Lax; path=/; expires=Fri, 26-Apr-24 19:27:08 GMT; HttpOnly\n",
      "  - Strict-Transport-Security: max-age=31536000; includeSubDomains; preload\n",
      "  - Server: cloudflare\n",
      "  - CF-RAY: 876f4a4dade59da3-DME\n",
      "  - Content-Encoding: br\n",
      "\n",
      "Код ответа: 200\n",
      "\n",
      "JSON ответа:\n",
      "{'id': 69420,\n",
      " 'jsonrpc': '2.0',\n",
      " 'result': {'advisoryDelay': 2170,\n",
      "            'bitsLeft': 249960,\n",
      "            'bitsUsed': 40,\n",
      "            'random': {'completionTime': '2024-04-19 19:27:08Z',\n",
      "                       'data': [-13, 106, 66, 119, -16]},\n",
      "            'requestsLeft': 999}}\n"
     ]
    }
   ],
   "source": [
    "import pprint\n",
    "print(\"Header в запросе:\")\n",
    "for k, v in resp.request.headers.items():\n",
    "    print(f'  - {k}: {v}')\n",
    "print()\n",
    "\n",
    "print(\"Header в ответе:\")\n",
    "for k, v in resp.headers.items():\n",
    "    print(f'  - {k}: {v}')\n",
    "\n",
    "print()\n",
    "print(\"Код ответа:\", resp.status_code)\n",
    "print()\n",
    "print(\"JSON ответа:\")\n",
    "pprint.pprint(resp.json())"
   ]
  },
  {
   "cell_type": "markdown",
   "metadata": {},
   "source": [
    "В ответе сервера присутствуют следующие поля:\n",
    "\n",
    "- `id`: тот же самый `id`, как был указан в запросе\n",
    "- `jsonrpc`: версия протокола, 2.0\n",
    "- `result`: результат успешного выполнения метода:\n",
    "  - `advisoryDelay`: сколько времени сервер рекомендует ждать прежде чем делать следующий запрос, чтобы не превысить rate limit\n",
    "  - `bitsLeft`: сколько битов случайности осталось в квоте этого ключа\n",
    "  - `bitsUsed`: сколько битов случайности требовалось, чтобы выполнить этот запрос\n",
    "  - `requestsLeft`: сколько запросов еще можно сделать с этим ключом\n",
    "  - `random`: информация о случайных числах:\n",
    "    - `data`: сгенерированные числа\n",
    "    - `completionTime`: время, когда был осуществлен запрос"
   ]
  },
  {
   "cell_type": "markdown",
   "metadata": {},
   "source": [
    "В header ответа есть много различных:\n",
    "\n",
    "  - `Date`: в какое время на сервере произошел запрос\n",
    "  - `Content-Type`: сервер отправил \n",
    "  - `Content-Encoding`: каким алгоритмом было обработано тело ответа (какой алгоритм сжатия)\n",
    "  - `Transfer-Encoding`: по проводу содержимое было передано по кускам, где каждый кусок имеет в начале свою длину\n",
    "  - `Connection`: если клиент хочет делать еще запросы к этому серверу, их можно отправлять через то же самое TCP-соединение\n",
    "  - `Strict-Transport-Security`: этот сайт гарантирует, что он будет доступен по HTTPS как минимум год, в том числе его поддомены, и этот факт можно записать в перманентную базу данных браузера\n",
    "  - `X-Content-Type-Options`: браузеру не стоит пытаться догадаться, какой тип данных в этом документе -- содержимое `Content-Type` задано правильно\n",
    "  - `Access-Control-Allow-Origin`: всем сайтам разрешается посылать сюда запросы...\n",
    "  - `Access-Control-Allow-Headers`: ...и если эти запросы содержат эти headers, то их разрешается передавать данному серверу\n",
    "  - `Server`: сайт использует прокси от Cloudflare\n",
    "  - `CF-Cache-Status`: содержимое этой страницы не предполагалось к кешированию в Cloudflare CDN\n",
    "  - `CF-RAY`: этот идентификатор можно использовать, чтобы отследить этот запрос в логах Cloudflare\n",
    "  - `Set-Cookie`: браузеру стоит запомнить это значение и передавать его с последующими запросами как cookie"
   ]
  },
  {
   "cell_type": "markdown",
   "metadata": {},
   "source": [
    "Можно заказать случайные числа в другой системе исчисления, например восьмеричной:"
   ]
  },
  {
   "cell_type": "code",
   "execution_count": 17,
   "metadata": {},
   "outputs": [],
   "source": [
    "resp2 = requests.post(BASE_URL, json={\n",
    "    \"jsonrpc\": \"2.0\",\n",
    "    \"method\": \"generateIntegers\",\n",
    "    \"id\": 69420,\n",
    "    \"params\": {\n",
    "        \"apiKey\": API_KEY,\n",
    "        \"n\": 5,\n",
    "        \"min\": -127,\n",
    "        \"max\": 128,\n",
    "        \"base\": 8\n",
    "    }\n",
    "})"
   ]
  },
  {
   "cell_type": "markdown",
   "metadata": {},
   "source": [
    "Тогда ответы возвращаются в виде строк, которые содержат числа в нужной системе, а не JSON-тип Number:"
   ]
  },
  {
   "cell_type": "code",
   "execution_count": 18,
   "metadata": {},
   "outputs": [
    {
     "name": "stdout",
     "output_type": "stream",
     "text": [
      "{'id': 69420,\n",
      " 'jsonrpc': '2.0',\n",
      " 'result': {'advisoryDelay': 2700,\n",
      "            'bitsLeft': 249920,\n",
      "            'bitsUsed': 40,\n",
      "            'random': {'completionTime': '2024-04-19 19:56:40Z',\n",
      "                       'data': ['055', '122', '045', '157', '163']},\n",
      "            'requestsLeft': 998}}\n"
     ]
    }
   ],
   "source": [
    "pprint.pprint(resp2.json())"
   ]
  },
  {
   "cell_type": "markdown",
   "metadata": {},
   "source": [
    "## Ошибки\n",
    "\n",
    "Если метод в JSON-RPC не может вернуть результат, то он возвращает ошибку. В ошибке есть код ошибки, строка с человеко-читаемым объяснением ошибки, а также данные для форматирования этой строки на другом языке.\n",
    "\n",
    "В зависимости от ситуации могут быть разные типы ошибок:"
   ]
  },
  {
   "cell_type": "code",
   "execution_count": 22,
   "metadata": {},
   "outputs": [],
   "source": [
    "err1 = requests.post(BASE_URL, json={\n",
    "    \"jsonrpc\": \"2.0\",\n",
    "    \"method\": \"generateIntegers\",\n",
    "    \"id\": 69420,\n",
    "    \"params\": {\n",
    "        \"apiKey\": API_KEY,\n",
    "        \"n\": 15,  # Слишком много чисел запрошено\n",
    "        \"min\": 0,\n",
    "        \"max\": 10,\n",
    "        \"replacement\": False\n",
    "    }\n",
    "})"
   ]
  },
  {
   "cell_type": "code",
   "execution_count": 23,
   "metadata": {},
   "outputs": [
    {
     "name": "stdout",
     "output_type": "stream",
     "text": [
      "{'error': {'code': 301,\n",
      "           'data': [15, 11],\n",
      "           'message': 'You requested 15 values without replacement but the '\n",
      "                      'domain you specified only contains 11'},\n",
      " 'id': 69420,\n",
      " 'jsonrpc': '2.0'}\n"
     ]
    }
   ],
   "source": [
    "pprint.pprint(err1.json())"
   ]
  },
  {
   "cell_type": "code",
   "execution_count": 27,
   "metadata": {},
   "outputs": [],
   "source": [
    "err2 = requests.post(BASE_URL, data=\"этот json поддельный\".encode(), headers={'content-type': 'application/json'})"
   ]
  },
  {
   "cell_type": "code",
   "execution_count": 28,
   "metadata": {},
   "outputs": [
    {
     "name": "stdout",
     "output_type": "stream",
     "text": [
      "{'error': {'code': -32700, 'data': None, 'message': 'Parse error'},\n",
      " 'id': None,\n",
      " 'jsonrpc': '2.0'}\n"
     ]
    }
   ],
   "source": [
    "pprint.pprint(err2.json())"
   ]
  },
  {
   "cell_type": "markdown",
   "metadata": {},
   "source": [
    "## generateIntegerSequences\n",
    "\n",
    "Этот метод позволяет запросить несколько числовых последовательностей вместе, в отличии от `generateIntegers`, который генерирует только одну. Это позволяет сэкономить HTTP-запросы, когда известно, что требуется несколько последовательностей одновременно: квота на количество запросов гораздо ниже, чем квота на количество случайных битов."
   ]
  },
  {
   "cell_type": "code",
   "execution_count": 29,
   "metadata": {},
   "outputs": [],
   "source": [
    "resp3 = requests.post(BASE_URL, json={\n",
    "    \"jsonrpc\": \"2.0\",\n",
    "    \"method\": \"generateIntegerSequences\",\n",
    "    \"id\": 69420,\n",
    "    \"params\": {\n",
    "        \"apiKey\": API_KEY,\n",
    "        \"n\": 5,\n",
    "        \"length\": 10,\n",
    "        \"min\": -64,\n",
    "        \"max\": 63\n",
    "    }\n",
    "})"
   ]
  },
  {
   "cell_type": "code",
   "execution_count": 30,
   "metadata": {},
   "outputs": [
    {
     "name": "stdout",
     "output_type": "stream",
     "text": [
      "Header в запросе:\n",
      "  - User-Agent: python-requests/2.31.0\n",
      "  - Accept-Encoding: gzip, deflate, br\n",
      "  - Accept: */*\n",
      "  - Connection: keep-alive\n",
      "  - Content-Length: 176\n",
      "  - Content-Type: application/json\n",
      "\n",
      "Header в ответе:\n",
      "  - Date: Fri, 19 Apr 2024 20:27:49 GMT\n",
      "  - Content-Type: application/json; charset=utf-8\n",
      "  - Transfer-Encoding: chunked\n",
      "  - Connection: keep-alive\n",
      "  - X-Content-Type-Options: nosniff\n",
      "  - Access-Control-Allow-Origin: *\n",
      "  - Access-Control-Allow-Headers: Origin, X-Requested-With, Content-Type, Accept\n",
      "  - CF-Cache-Status: DYNAMIC\n",
      "  - Set-Cookie: __cflb=02DiuEJLVpaAQLxvFoC2iH8cD76FLs8doiJFNfgn4awwR; SameSite=Lax; path=/; expires=Fri, 26-Apr-24 20:27:49 GMT; HttpOnly\n",
      "  - Strict-Transport-Security: max-age=31536000; includeSubDomains; preload\n",
      "  - Server: cloudflare\n",
      "  - CF-RAY: 876fa3344f409dc1-DME\n",
      "  - Content-Encoding: br\n",
      "\n",
      "Код ответа: 200\n",
      "\n",
      "JSON ответа:\n",
      "{'id': 69420,\n",
      " 'jsonrpc': '2.0',\n",
      " 'result': {'advisoryDelay': 1930,\n",
      "            'bitsLeft': 249530,\n",
      "            'bitsUsed': 350,\n",
      "            'random': {'completionTime': '2024-04-19 20:27:49Z',\n",
      "                       'data': [[20, -40, 7, -60, -30, 0, 45, -63, -8, -27],\n",
      "                                [-6, 7, 52, -20, -25, -48, 54, 44, 20, -19],\n",
      "                                [0, -45, 51, -52, -33, 2, 41, -9, 18, 20],\n",
      "                                [-27, -47, 60, -41, -7, 31, 43, -59, -2, -30],\n",
      "                                [23, -33, 15, 58, 47, -50, 42, -45, 62, 25]]},\n",
      "            'requestsLeft': 996}}\n"
     ]
    }
   ],
   "source": [
    "print(\"Header в запросе:\")\n",
    "for k, v in resp3.request.headers.items():\n",
    "    print(f'  - {k}: {v}')\n",
    "print()\n",
    "\n",
    "print(\"Header в ответе:\")\n",
    "for k, v in resp3.headers.items():\n",
    "    print(f'  - {k}: {v}')\n",
    "\n",
    "print()\n",
    "print(\"Код ответа:\", resp3.status_code)\n",
    "print()\n",
    "print(\"JSON ответа:\")\n",
    "pprint.pprint(resp3.json())"
   ]
  },
  {
   "cell_type": "markdown",
   "metadata": {},
   "source": [
    "Разницы в HTTP-header здесь нет: при использовании JSON-RPC значения header в целом можно игнорировать.\n",
    "Однако в этом методе отличается формат `result.random.data`: теперь здесь возвращается список из списков случайных чисел, а не просто один список. Это соответствует искомым последовательностям чисел."
   ]
  },
  {
   "cell_type": "markdown",
   "metadata": {},
   "source": [
    "## Использование\n",
    "\n",
    "Чтобы симулировать подброс монеты или кубика, можно использовать любой из этих двух методов, где границы интервалов соответствуют используемому инструменту."
   ]
  },
  {
   "cell_type": "code",
   "execution_count": 31,
   "metadata": {},
   "outputs": [],
   "source": [
    "resp4 = requests.post(BASE_URL, json={\n",
    "    \"jsonrpc\": \"2.0\",\n",
    "    \"method\": \"generateIntegers\",\n",
    "    \"id\": 69420,\n",
    "    \"params\": {\n",
    "        \"apiKey\": API_KEY,\n",
    "        \"n\": 1,\n",
    "        \"min\": 0,\n",
    "        \"max\": 1,\n",
    "    }\n",
    "})\n",
    "\n",
    "resp5 = requests.post(BASE_URL, json={\n",
    "    \"jsonrpc\": \"2.0\",\n",
    "    \"method\": \"generateIntegers\",\n",
    "    \"id\": 69420,\n",
    "    \"params\": {\n",
    "        \"apiKey\": API_KEY,\n",
    "        \"n\": 1,\n",
    "        \"min\": 1,\n",
    "        \"max\": 6,\n",
    "    }\n",
    "})"
   ]
  },
  {
   "cell_type": "code",
   "execution_count": 33,
   "metadata": {},
   "outputs": [
    {
     "name": "stdout",
     "output_type": "stream",
     "text": [
      "Монета: ОРЕЛ\n",
      "Кубик: 5\n"
     ]
    }
   ],
   "source": [
    "print(\"Монета:\", \"ОРЕЛ\" if resp4.json()['result']['random']['data'][0] == 1 else \"РЕШКА\")\n",
    "print(\"Кубик:\", resp5.json()['result']['random']['data'][0])\n"
   ]
  },
  {
   "cell_type": "markdown",
   "metadata": {},
   "source": [
    "Чтобы сгенерировать 5 IP-адресов (IPv4), в первом приближении можно собрать 20 чисел от 0 до 255 и объединить их в группы по четыре.\n",
    "\n",
    "Это не совсем правильный способ, потому что в IPv4-пространстве есть зарезервированные адреса, которые имеют нестандартное поведение (например, все адреса между 127.0.0.0 и 127.255.255.255 относятся к одному и тому же компьютеру)."
   ]
  },
  {
   "cell_type": "code",
   "execution_count": 34,
   "metadata": {},
   "outputs": [],
   "source": [
    "resp6 = requests.post(BASE_URL, json={\n",
    "    \"jsonrpc\": \"2.0\",\n",
    "    \"method\": \"generateIntegerSequences\",\n",
    "    \"id\": 69420,\n",
    "    \"params\": {\n",
    "        \"apiKey\": API_KEY,\n",
    "        \"n\": 5,\n",
    "        \"length\": 4,\n",
    "        \"min\": 0,\n",
    "        \"max\": 255\n",
    "    }\n",
    "})"
   ]
  },
  {
   "cell_type": "code",
   "execution_count": 35,
   "metadata": {},
   "outputs": [
    {
     "name": "stdout",
     "output_type": "stream",
     "text": [
      "{'id': 69420,\n",
      " 'jsonrpc': '2.0',\n",
      " 'result': {'advisoryDelay': 1980,\n",
      "            'bitsLeft': 249366,\n",
      "            'bitsUsed': 160,\n",
      "            'random': {'completionTime': '2024-04-19 20:45:25Z',\n",
      "                       'data': [[179, 164, 35, 239],\n",
      "                                [172, 92, 28, 122],\n",
      "                                [237, 155, 129, 250],\n",
      "                                [233, 25, 184, 150],\n",
      "                                [26, 165, 18, 62]]},\n",
      "            'requestsLeft': 993}}\n"
     ]
    }
   ],
   "source": [
    "pprint.pprint(resp6.json())"
   ]
  },
  {
   "cell_type": "code",
   "execution_count": 36,
   "metadata": {},
   "outputs": [
    {
     "name": "stdout",
     "output_type": "stream",
     "text": [
      "IP-адреса (?):\n",
      "  - 179.164.35.239\n",
      "  - 172.92.28.122\n",
      "  - 237.155.129.250\n",
      "  - 233.25.184.150\n",
      "  - 26.165.18.62\n"
     ]
    }
   ],
   "source": [
    "print(\"IP-адреса (?):\")\n",
    "for row in resp6.json()['result']['random']['data']:\n",
    "    print('  -', '.'.join(map(str, row)))"
   ]
  },
  {
   "cell_type": "markdown",
   "metadata": {},
   "source": [
    "## Заключение\n",
    "В этой лабораторной работе мы рассмотрели, как работать с веб-сервисом с настоящим API.\n",
    "Это поможет нам выполнять следующую лабораторную работу, где мы рассмотрим, как работать с еще более сложным API Вконтакте."
   ]
  },
  {
   "cell_type": "markdown",
   "metadata": {},
   "source": []
  }
 ],
 "metadata": {
  "kernelspec": {
   "display_name": "Python 3 (ipykernel)",
   "language": "python",
   "name": "python3"
  },
  "language_info": {
   "codemirror_mode": {
    "name": "ipython",
    "version": 3
   },
   "file_extension": ".py",
   "mimetype": "text/x-python",
   "name": "python",
   "nbconvert_exporter": "python",
   "pygments_lexer": "ipython3",
   "version": "3.11.8"
  }
 },
 "nbformat": 4,
 "nbformat_minor": 1
}
